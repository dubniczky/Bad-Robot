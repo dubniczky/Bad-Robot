{
 "cells": [
  {
   "cell_type": "code",
   "execution_count": null,
   "metadata": {},
   "outputs": [],
   "source": [
    "import requests\n",
    "import re"
   ]
  },
  {
   "cell_type": "code",
   "execution_count": null,
   "metadata": {},
   "outputs": [],
   "source": [
    "def get_domain_rules(domain):\n",
    "    res = requests.get(f'{domain}/robots.txt')\n",
    "    if res.status_code == 200:\n",
    "        return res.text\n",
    "    return None\n",
    "\n",
    "rules = get_domain_rules('https://-.com')\n",
    "rules"
   ]
  },
  {
   "cell_type": "code",
   "execution_count": null,
   "metadata": {},
   "outputs": [],
   "source": [
    "def filter_disallow_rules(rules):\n",
    "    rulelist = rules.splitlines()\n",
    "    disallows = []\n",
    "    for rule in rulelist:\n",
    "        if rule.startswith('Disallow: '):\n",
    "            disallows.append(rule.split(': ')[1])\n",
    "    return disallows"
   ]
  },
  {
   "cell_type": "code",
   "execution_count": null,
   "metadata": {},
   "outputs": [],
   "source": [
    "disallows = filter_disallow_rules(rules)\n",
    "disallows"
   ]
  },
  {
   "cell_type": "code",
   "execution_count": null,
   "metadata": {},
   "outputs": [],
   "source": [
    "def filter_paths(paths, filters):\n",
    "    res = paths[:]\n",
    "    for f in filters:\n",
    "        res = list(filter(lambda p: not re.search(f, p), res))\n",
    "    return res"
   ]
  },
  {
   "cell_type": "code",
   "execution_count": null,
   "metadata": {},
   "outputs": [],
   "source": [
    "filters = [\n",
    "    r'[*]', # * is used for generalization, not a file\n",
    "    r'[=]', # = is used for paths with specific arguments\n",
    "]\n",
    "disallows = filter_paths(disallows, filters)\n",
    "disallows"
   ]
  },
  {
   "cell_type": "code",
   "execution_count": null,
   "metadata": {},
   "outputs": [],
   "source": [
    "import shutil\n",
    "import os\n",
    "\n",
    "def clean_target(path):\n",
    "    shutil.rmtree(path)\n",
    "    os.makedirs(path, exist_ok=True)\n",
    "    \n",
    "clean_target('target')"
   ]
  },
  {
   "cell_type": "code",
   "execution_count": null,
   "metadata": {},
   "outputs": [],
   "source": [
    "def download_paths(domain, paths, local='target'):\n",
    "    for path in paths:\n",
    "        url = f'{domain}{path}'\n",
    "        res = requests.get(url)\n",
    "        if res.status_code == 200:\n",
    "            print(f'[+] Found {url}')\n",
    "            with open(f'{local}/{path.replace(\"/\", \"--\").strip(\"-\")}', 'w') as f:\n",
    "                f.write(res.text)\n",
    "        else:\n",
    "            print(f'[-] {url} returned {res.status_code}')"
   ]
  },
  {
   "cell_type": "code",
   "execution_count": null,
   "metadata": {},
   "outputs": [],
   "source": [
    "download_paths('https://-.com', disallows)"
   ]
  }
 ],
 "metadata": {
  "kernelspec": {
   "display_name": "Python 3",
   "language": "python",
   "name": "python3"
  },
  "language_info": {
   "codemirror_mode": {
    "name": "ipython",
    "version": 3
   },
   "file_extension": ".py",
   "mimetype": "text/x-python",
   "name": "python",
   "nbconvert_exporter": "python",
   "pygments_lexer": "ipython3",
   "version": "3.11.3"
  },
  "orig_nbformat": 4
 },
 "nbformat": 4,
 "nbformat_minor": 2
}
