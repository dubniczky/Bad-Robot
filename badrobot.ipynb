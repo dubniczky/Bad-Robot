{
 "cells": [
  {
   "cell_type": "code",
   "execution_count": null,
   "metadata": {},
   "outputs": [],
   "source": [
    "import requests\n",
    "import re"
   ]
  },
  {
   "cell_type": "code",
   "execution_count": null,
   "metadata": {},
   "outputs": [],
   "source": [
    "def get_domain_rules(domain):\n",
    "    res = requests.get(f'{domain}/robots.txt')\n",
    "    if res.status_code == 200:\n",
    "        return res.text\n",
    "    return None\n",
    "\n",
    "rules = get_domain_rules('https://tesla.com')\n",
    "rules"
   ]
  },
  {
   "cell_type": "code",
   "execution_count": null,
   "metadata": {},
   "outputs": [],
   "source": [
    "def filter_disallow_rules(rules):\n",
    "    rulelist = rules.splitlines()\n",
    "    disallows = []\n",
    "    for rule in rulelist:\n",
    "        if rule.startswith('Disallow: '):\n",
    "            disallows.append(rule.split(': ')[1])\n",
    "    return disallows"
   ]
  },
  {
   "cell_type": "code",
   "execution_count": null,
   "metadata": {},
   "outputs": [],
   "source": [
    "disallows = filter_disallow_rules(rules)\n",
    "disallows"
   ]
  },
  {
   "cell_type": "code",
   "execution_count": null,
   "metadata": {},
   "outputs": [],
   "source": [
    "def filter_paths(paths, filters):\n",
    "    res = paths[:]\n",
    "    for f in filters:\n",
    "        res = list(filter(lambda p: not re.search(f, p), res))\n",
    "    return res"
   ]
  },
  {
   "cell_type": "code",
   "execution_count": null,
   "metadata": {},
   "outputs": [],
   "source": [
    "filters = [\n",
    "    r'[*]', # * is used for generalization, not a unique file\n",
    "]\n",
    "filter_paths(disallows, filters)"
   ]
  }
 ],
 "metadata": {
  "kernelspec": {
   "display_name": "Python 3",
   "language": "python",
   "name": "python3"
  },
  "language_info": {
   "codemirror_mode": {
    "name": "ipython",
    "version": 3
   },
   "file_extension": ".py",
   "mimetype": "text/x-python",
   "name": "python",
   "nbconvert_exporter": "python",
   "pygments_lexer": "ipython3",
   "version": "3.11.3"
  },
  "orig_nbformat": 4
 },
 "nbformat": 4,
 "nbformat_minor": 2
}
